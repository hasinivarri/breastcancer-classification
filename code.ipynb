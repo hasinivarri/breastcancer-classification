{
 "cells": [
  {
   "cell_type": "code",
   "execution_count": 1,
   "id": "b174b8ea",
   "metadata": {},
   "outputs": [
    {
     "name": "stderr",
     "output_type": "stream",
     "text": [
      "C:\\Users\\HASINI\\anaconda3\\lib\\site-packages\\scipy\\__init__.py:146: UserWarning: A NumPy version >=1.17.3 and <1.25.0 is required for this version of SciPy (detected version 1.26.2\n",
      "  warnings.warn(f\"A NumPy version >={np_minversion} and <{np_maxversion}\"\n"
     ]
    }
   ],
   "source": [
    "import numpy as np\n",
    "import pandas as pd\n",
    "from sklearn.model_selection import train_test_split\n",
    "from sklearn.metrics import accuracy_score\n",
    "from sklearn.preprocessing import StandardScaler"
   ]
  },
  {
   "cell_type": "code",
   "execution_count": 2,
   "id": "20d88b7f",
   "metadata": {},
   "outputs": [],
   "source": [
    "# Load the dataset\n",
    "df = pd.read_csv('breast cancer.csv')\n",
    "\n",
    "# Convert the diagnosis field to a binary format\n",
    "df['diagnosis'] = df['diagnosis'].map({'M': 1, 'B': 0})\n",
    "\n",
    "# Extract features (X) and target variable (y)\n",
    "X = df.iloc[:, 2:32].values  # Exclude the 'id' and 'diagnosis' columns\n",
    "y = df['diagnosis'].values"
   ]
  },
  {
   "cell_type": "code",
   "execution_count": 3,
   "id": "3414fa1c",
   "metadata": {},
   "outputs": [],
   "source": [
    "# Split the dataset into a training set and a test set\n",
    "X_train, X_test, y_train, y_test = train_test_split(X, y, test_size=0.2, random_state=42)\n",
    "\n",
    "# Standardize the features\n",
    "scaler = StandardScaler()\n",
    "X_train = scaler.fit_transform(X_train)\n",
    "X_test = scaler.transform(X_test)\n",
    "\n",
    "# Add a bias term to the features\n",
    "X_train_bias = np.hstack((np.ones((X_train.shape[0], 1)), X_train))\n",
    "X_test_bias = np.hstack((np.ones((X_test.shape[0], 1)), X_test))\n"
   ]
  },
  {
   "cell_type": "code",
   "execution_count": 4,
   "id": "c8716b84",
   "metadata": {},
   "outputs": [],
   "source": [
    "def sigmoid(x):\n",
    "    return 1 / (1 + np.exp(-x))\n",
    "\n",
    "# Logistic regression training function\n",
    "def logistic_regression(X, y, learning_rate=0.01, iterations=1000):\n",
    "    m, n = X.shape\n",
    "    theta = np.zeros(n)  # Initialize weights to zeros\n",
    "    \n",
    "    for _ in range(iterations):\n",
    "        z = np.dot(X, theta)\n",
    "        h = sigmoid(z)\n",
    "        gradient = np.dot(X.T, (h - y)) / m\n",
    "        theta -= learning_rate * gradient\n",
    "        \n",
    "    return theta"
   ]
  },
  {
   "cell_type": "code",
   "execution_count": 5,
   "id": "bcf7eaa7",
   "metadata": {},
   "outputs": [
    {
     "data": {
      "text/plain": [
       "(569, 30)"
      ]
     },
     "execution_count": 5,
     "metadata": {},
     "output_type": "execute_result"
    }
   ],
   "source": [
    "X.shape"
   ]
  },
  {
   "cell_type": "code",
   "execution_count": 6,
   "id": "d62aa0b5",
   "metadata": {},
   "outputs": [
    {
     "data": {
      "text/plain": [
       "(569, 1)"
      ]
     },
     "execution_count": 6,
     "metadata": {},
     "output_type": "execute_result"
    }
   ],
   "source": [
    "y= y.reshape(-1, 1)\n",
    "y.shape"
   ]
  },
  {
   "cell_type": "code",
   "execution_count": 7,
   "id": "0a773aff",
   "metadata": {
    "scrolled": true
   },
   "outputs": [
    {
     "name": "stdout",
     "output_type": "stream",
     "text": [
      "Accuracy of Logistic Regression: 0.9824561403508771\n"
     ]
    }
   ],
   "source": [
    "theta = logistic_regression(X_train_bias, y_train, learning_rate=0.01, iterations=10000)\n",
    "\n",
    "# Make predictions\n",
    "predictions = sigmoid(np.dot(X_test_bias, theta))\n",
    "y_pred = np.round(predictions)\n",
    "\n",
    "# Calculate accuracy\n",
    "accuracy = accuracy_score(y_test, y_pred)\n",
    "print('Accuracy of Logistic Regression:', accuracy)"
   ]
  },
  {
   "cell_type": "code",
   "execution_count": null,
   "id": "9e74e6ee",
   "metadata": {},
   "outputs": [],
   "source": []
  }
 ],
 "metadata": {
  "kernelspec": {
   "display_name": "Python 3 (ipykernel)",
   "language": "python",
   "name": "python3"
  },
  "language_info": {
   "codemirror_mode": {
    "name": "ipython",
    "version": 3
   },
   "file_extension": ".py",
   "mimetype": "text/x-python",
   "name": "python",
   "nbconvert_exporter": "python",
   "pygments_lexer": "ipython3",
   "version": "3.9.13"
  }
 },
 "nbformat": 4,
 "nbformat_minor": 5
}
